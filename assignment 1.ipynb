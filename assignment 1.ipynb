{
 "cells": [
  {
   "cell_type": "markdown",
   "id": "5481638f-a182-491d-a0c3-3bdf653f18f9",
   "metadata": {},
   "source": [
    "Problem 1: Write a program that will give you in hand monthly salary after deduction on CTC - HRA(10%), DA(5%), PF(3%) and taxes deduction as below:\n",
    "Salary(Lakhs) : Tax(%)\n",
    "\n",
    "New Section\n",
    "Below 5 : 0%\n",
    "5-10 : 10%\n",
    "10-20 : 20%\n",
    "aboove 20 : 30%"
   ]
  },
  {
   "cell_type": "code",
   "execution_count": 3,
   "id": "40de37e3-a49b-4bfd-9e57-d69278c5835f",
   "metadata": {},
   "outputs": [
    {
     "name": "stdin",
     "output_type": "stream",
     "text": [
      "Enter your CTC (in Lakhs):  15\n"
     ]
    },
    {
     "name": "stdout",
     "output_type": "stream",
     "text": [
      "Your monthly salary after deductions is: 0.82 Lakhs\n"
     ]
    }
   ],
   "source": [
    "def calculate_monthly_salary(ctc):\n",
    "    # Constants for deduction percentages\n",
    "    hra_percent = 10\n",
    "    da_percent = 5\n",
    "    pf_percent = 3\n",
    "    \n",
    "    # Calculate total deduction percentage\n",
    "    total_deduction_percent = hra_percent + da_percent + pf_percent\n",
    "    \n",
    "    # Calculate taxable income after deductions\n",
    "    taxable_income = ctc * (1 - total_deduction_percent / 100)\n",
    "    \n",
    "    # Determine tax percentage based on salary slab\n",
    "    if ctc < 5:\n",
    "        tax_percent = 0\n",
    "    elif 5 <= ctc < 10:\n",
    "        tax_percent = 10\n",
    "    elif 10 <= ctc < 20:\n",
    "        tax_percent = 20\n",
    "    else:\n",
    "        tax_percent = 30\n",
    "    \n",
    "    # Calculate tax amount\n",
    "    tax_amount = taxable_income * (tax_percent / 100)\n",
    "    \n",
    "    # Calculate monthly salary after tax deduction\n",
    "    monthly_salary = (taxable_income - tax_amount) / 12\n",
    "    \n",
    "    return monthly_salary\n",
    "\n",
    "# Example usage:\n",
    "ctc = float(input(\"Enter your CTC (in Lakhs): \"))\n",
    "monthly_salary = calculate_monthly_salary(ctc)\n",
    "\n",
    "print(f\"Your monthly salary after deductions is: {monthly_salary:.2f} Lakhs\")"
   ]
  },
  {
   "cell_type": "markdown",
   "id": "73f0695b-1959-4c05-a9b4-694070373b7c",
   "metadata": {},
   "source": [
    "Problem 2: Write a program that take a user input of three angles and will find out whether it can form a triangle or not."
   ]
  },
  {
   "cell_type": "code",
   "execution_count": 4,
   "id": "b01e657c-d758-4bf5-be5b-3a0ecf6e18f9",
   "metadata": {},
   "outputs": [
    {
     "name": "stdin",
     "output_type": "stream",
     "text": [
      "Enter first angle:  90\n",
      "Enter second angle:  35\n",
      "Enter third angle:  70\n"
     ]
    },
    {
     "name": "stdout",
     "output_type": "stream",
     "text": [
      "No, these angles cannot form a triangle.\n"
     ]
    }
   ],
   "source": [
    "def check_triangle(angle1, angle2, angle3):\n",
    "    # Check if all angles are positive and their sum is 180\n",
    "    if angle1 > 0 and angle2 > 0 and angle3 > 0:\n",
    "        if angle1 + angle2 + angle3 == 180:\n",
    "            return True\n",
    "    return False\n",
    "\n",
    "# Input angles from the user\n",
    "angle1 = int(input(\"Enter first angle: \"))\n",
    "angle2 = int(input(\"Enter second angle: \"))\n",
    "angle3 = int(input(\"Enter third angle: \"))\n",
    "\n",
    "# Check if they can form a triangle\n",
    "if check_triangle(angle1, angle2, angle3):\n",
    "    print(\"Yes, these angles can form a triangle.\")\n",
    "else:\n",
    "    print(\"No, these angles cannot form a triangle.\")"
   ]
  },
  {
   "cell_type": "markdown",
   "id": "113a020f-5af9-4024-b9dd-438cc581e809",
   "metadata": {},
   "source": [
    "Problem 3: Write a program that will take user input of cost price and selling price and determines whether its a loss or a profit."
   ]
  },
  {
   "cell_type": "code",
   "execution_count": 7,
   "id": "6b57c6c9-1381-4c1e-af2d-09bf0e75be40",
   "metadata": {},
   "outputs": [
    {
     "name": "stdin",
     "output_type": "stream",
     "text": [
      "Enter first angle:  90\n",
      "Enter second angle:  180\n",
      "Enter third angle:  60\n"
     ]
    },
    {
     "name": "stdout",
     "output_type": "stream",
     "text": [
      "No, these angles cannot form a triangle.\n"
     ]
    }
   ],
   "source": [
    "def check_triangle(angle1, angle2, angle3):\n",
    "    # Check if all angles are positive and their sum is 180\n",
    "    if angle1 > 0 and angle2 > 0 and angle3 > 0:\n",
    "        if angle1 + angle2 + angle3 == 180:\n",
    "            return True\n",
    "    return False\n",
    "\n",
    "# Input angles from the user\n",
    "angle1 = int(input(\"Enter first angle: \"))\n",
    "angle2 = int(input(\"Enter second angle: \"))\n",
    "angle3 = int(input(\"Enter third angle: \"))\n",
    "\n",
    "# Check if they can form a triangle\n",
    "if check_triangle(angle1, angle2, angle3):\n",
    "    print(\"Yes, these angles can form a triangle.\")\n",
    "else:\n",
    "    print(\"No, these angles cannot form a triangle.\")"
   ]
  },
  {
   "cell_type": "markdown",
   "id": "ff1fd340-8d7c-4254-9ad4-af85d43189ab",
   "metadata": {},
   "source": [
    "Problem 4: Write a menu-driven program -\n",
    "cm to ft\n",
    "km to miles\n",
    "USD to INR\n",
    "exit"
   ]
  },
  {
   "cell_type": "code",
   "execution_count": 3,
   "id": "ca13fa51-a8c1-4b8d-afcd-bcb774b58226",
   "metadata": {},
   "outputs": [
    {
     "name": "stdout",
     "output_type": "stream",
     "text": [
      "\n",
      "Menu:\n",
      "1. Convert cm to ft\n",
      "2. Convert km to miles\n",
      "3. Convert USD to INR\n",
      "4. Exit\n"
     ]
    },
    {
     "name": "stdin",
     "output_type": "stream",
     "text": [
      "Enter your choice (1/2/3/4):  3\n",
      "Enter amount in USD:  4\n"
     ]
    },
    {
     "name": "stdout",
     "output_type": "stream",
     "text": [
      "4.0 USD is equal to 298.00 INR\n",
      "\n",
      "Menu:\n",
      "1. Convert cm to ft\n",
      "2. Convert km to miles\n",
      "3. Convert USD to INR\n",
      "4. Exit\n"
     ]
    },
    {
     "name": "stdin",
     "output_type": "stream",
     "text": [
      "Enter your choice (1/2/3/4):  4\n"
     ]
    },
    {
     "name": "stdout",
     "output_type": "stream",
     "text": [
      "Exiting the program. Goodbye!\n"
     ]
    }
   ],
   "source": [
    "def cm_to_ft(cm):\n",
    "    return cm / 30.48\n",
    "\n",
    "def km_to_miles(km):\n",
    "    return km / 1.60934\n",
    "\n",
    "def usd_to_inr(usd):\n",
    "    return usd * 74.5  # Assuming conversion rate of 1 USD = 74.5 INR\n",
    "\n",
    "# Function to display menu\n",
    "def display_menu():\n",
    "    print(\"\\nMenu:\")\n",
    "    print(\"1. Convert cm to ft\")\n",
    "    print(\"2. Convert km to miles\")\n",
    "    print(\"3. Convert USD to INR\")\n",
    "    print(\"4. Exit\")\n",
    "\n",
    "# Main program\n",
    "while True:\n",
    "    display_menu()\n",
    "    choice = input(\"Enter your choice (1/2/3/4): \")\n",
    "\n",
    "    if choice == '1':\n",
    "        cm = float(input(\"Enter length in cm: \"))\n",
    "        ft = cm_to_ft(cm)\n",
    "        print(f\"{cm} cm is equal to {ft:.2f} ft\")\n",
    "\n",
    "    elif choice == '2':\n",
    "        km = float(input(\"Enter distance in km: \"))\n",
    "        miles = km_to_miles(km)\n",
    "        print(f\"{km} km is equal to {miles:.2f} miles\")\n",
    "\n",
    "    elif choice == '3':\n",
    "        usd = float(input(\"Enter amount in USD: \"))\n",
    "        inr = usd_to_inr(usd)\n",
    "        print(f\"{usd} USD is equal to {inr:.2f} INR\")\n",
    "\n",
    "    elif choice == '4':\n",
    "        print(\"Exiting the program. Goodbye!\")\n",
    "        break\n",
    "\n",
    "    else:\n",
    "        print(\"Invalid choice! Please enter a valid option (1/2/3/4).\")"
   ]
  },
  {
   "cell_type": "markdown",
   "id": "d75e9ea7-fb8a-4c89-bb59-c4683677a25f",
   "metadata": {},
   "source": [
    "Problem 5- Exercise 12: Display Fibonacci series up to 10 terms."
   ]
  },
  {
   "cell_type": "code",
   "execution_count": 1,
   "id": "431a4f8b-0797-4adb-8cd5-53cfd7d163c7",
   "metadata": {},
   "outputs": [
    {
     "name": "stdin",
     "output_type": "stream",
     "text": [
      "Enter the number of Fibonacci terms to generate:  7\n"
     ]
    },
    {
     "name": "stdout",
     "output_type": "stream",
     "text": [
      "Fibonacci sequence:\n",
      "[0, 1, 1, 2, 3, 5, 8]\n"
     ]
    }
   ],
   "source": [
    "def fibonacci_sequence(n):\n",
    "    # Initialize first two terms of the sequence\n",
    "    fib_sequence = [0, 1]\n",
    "\n",
    "    # Generate the Fibonacci sequence up to n terms\n",
    "    for i in range(2, n):\n",
    "        next_term = fib_sequence[-1] + fib_sequence[-2]\n",
    "        fib_sequence.append(next_term)\n",
    "\n",
    "    return fib_sequence\n",
    "\n",
    "# Taking user input for the number of terms in Fibonacci sequence\n",
    "n = int(input(\"Enter the number of Fibonacci terms to generate: \"))\n",
    "\n",
    "# Generate and print the Fibonacci sequence\n",
    "fib_seq = fibonacci_sequence(n)\n",
    "print(\"Fibonacci sequence:\")\n",
    "print(fib_seq)"
   ]
  },
  {
   "cell_type": "markdown",
   "id": "c3c0d9b8-ad21-4c46-a223-5577fa09ec76",
   "metadata": {},
   "source": [
    "Problem 6 - Find the factorial of a given number.\n",
    "Write a program to use the loop to find the factorial of a given number.\n",
    "\n",
    "The factorial (symbol: !) means to multiply all whole numbers from the chosen number down to 1.\n",
    "\n",
    "For example: calculate the factorial of 5\n",
    "\n",
    "5! = 5 × 4 × 3 × 2 × 1 = 120"
   ]
  },
  {
   "cell_type": "code",
   "execution_count": 4,
   "id": "46b22367-61c6-45cd-8726-aaede57fc099",
   "metadata": {},
   "outputs": [
    {
     "name": "stdout",
     "output_type": "stream",
     "text": [
      "[120]\n"
     ]
    }
   ],
   "source": [
    "def fact(n):\n",
    "    \"\"\"this function will give factorial value\"\"\"\n",
    "    prod=1\n",
    "    while n>=1:\n",
    "        prod=prod*n\n",
    "        n=n-1\n",
    "    return prod\n",
    "l2=[5]\n",
    "print(list(map(fact,l2)))"
   ]
  },
  {
   "cell_type": "markdown",
   "id": "10980e56-3261-48ed-80fa-800be3812b2c",
   "metadata": {},
   "source": [
    "Problem 7 - Reverse a given integer number."
   ]
  },
  {
   "cell_type": "code",
   "execution_count": 1,
   "id": "fcfe95a8-297a-4345-b2fa-456a9d404c68",
   "metadata": {},
   "outputs": [
    {
     "name": "stdout",
     "output_type": "stream",
     "text": [
      "The reversed number of 76542 is: 24567\n"
     ]
    }
   ],
   "source": [
    "def reverse_integer(num):\n",
    "    # Convert the number to a string\n",
    "    num_str = str(num)\n",
    "    \n",
    "    # Reverse the string\n",
    "    reversed_str = num_str[::-1]\n",
    "    \n",
    "    # Convert the reversed string back to an integer\n",
    "    reversed_num = int(reversed_str)\n",
    "    \n",
    "    return reversed_num\n",
    "\n",
    "number = 76542\n",
    "reversed_number = reverse_integer(number)\n",
    "\n",
    "print(f\"The reversed number of {number} is: {reversed_number}\")"
   ]
  },
  {
   "cell_type": "markdown",
   "id": "c9fc8c7a-3a3b-4d03-8cdc-16a906741932",
   "metadata": {},
   "source": [
    "Problem 8: Take a user input as integer N. Find out the sum from 1 to N. If any number if divisible by 5, then skip that number. And if the sum is greater than 300, don't need to calculate the sum further more. Print the final result. And don't use for loop to solve this problem.:\r\n",
    "\r\n",
    "276\r\n"
   ]
  },
  {
   "cell_type": "code",
   "execution_count": 3,
   "id": "2b08999d-794e-4aee-bd42-92c7c4a25500",
   "metadata": {},
   "outputs": [
    {
     "name": "stdin",
     "output_type": "stream",
     "text": [
      "Enter an integer N:  23\n"
     ]
    },
    {
     "name": "stdout",
     "output_type": "stream",
     "text": [
      "The sum from 1 to 23 (skipping numbers divisible by 5 and stopping if sum exceeds 300) is: 226\n"
     ]
    }
   ],
   "source": [
    "def sum_up_to_n(n, current_sum=0):\n",
    "    if n == 0:\n",
    "        return current_sum\n",
    "    else:\n",
    "        if n % 5 != 0:\n",
    "            new_sum = current_sum + n\n",
    "            if new_sum > 300:\n",
    "                return new_sum\n",
    "            else:\n",
    "                return sum_up_to_n(n - 1, new_sum)\n",
    "        else:\n",
    "            return sum_up_to_n(n - 1, current_sum)\n",
    "\n",
    "# Taking user input for integer N\n",
    "N = int(input(\"Enter an integer N: \"))\n",
    "\n",
    "# Calculate the sum from 1 to N with given conditions\n",
    "result = sum_up_to_n(N)\n",
    "\n",
    "# Print the final result\n",
    "print(f\"The sum from 1 to {N} (skipping numbers divisible by 5 and stopping if sum exceeds 300) is: {result}\")"
   ]
  },
  {
   "cell_type": "markdown",
   "id": "c2ddd55e-76cb-4f65-883d-f79c0829c1ab",
   "metadata": {},
   "source": [
    "Problem 9: Write a program that keeps on accepting a number from the user until the user enters Zero. Display the sum and average of all the numbers.ed\r\n",
    "\n"
   ]
  },
  {
   "cell_type": "code",
   "execution_count": 12,
   "id": "1f17bdbb-c543-46f5-8634-5fec46d8070f",
   "metadata": {},
   "outputs": [
    {
     "name": "stdin",
     "output_type": "stream",
     "text": [
      "Enter a number (enter 0 to stop):  13\n",
      "Enter a number (enter 0 to stop):  76\n",
      "Enter a number (enter 0 to stop):  34\n",
      "Enter a number (enter 0 to stop):  0\n"
     ]
    },
    {
     "name": "stdout",
     "output_type": "stream",
     "text": [
      "the sum of all number is: 123\n",
      "the average of all number is: 41.0\n"
     ]
    }
   ],
   "source": [
    "total_sum = 0\n",
    "count = 0\n",
    "\n",
    "while True:\n",
    "\n",
    "    num = int(input(\"Enter a number (enter 0 to stop): \"))\n",
    "\n",
    "\n",
    "    if num == 0:\n",
    "        break\n",
    "        \n",
    "    total_sum += num\n",
    "    count += 1\n",
    "\n",
    "        \n",
    "if count == 0:\n",
    "    average = 0\n",
    "else:\n",
    "    average = total_sum / count\n",
    "\n",
    "print(\"the sum of all number is:\", total_sum)\n",
    "print(\"the average of all number is:\",average)"
   ]
  },
  {
   "cell_type": "markdown",
   "id": "675f4c13-521c-4f7f-a57f-7dc0bac5be48",
   "metadata": {},
   "source": [
    "program 10:Write a program which will find all such numbers which are divisible by 7 but are not a multiple of 5, between 2000 and 3200 (both included). The numbers obtained should be printed in a comma-separated sequence on a single line."
   ]
  },
  {
   "cell_type": "code",
   "execution_count": 6,
   "id": "31a8a460-c433-4d78-a4c7-c0897eedb8fe",
   "metadata": {},
   "outputs": [
    {
     "name": "stdout",
     "output_type": "stream",
     "text": [
      "2000 2002 2004 2006 2008 2020 2022 2024 2026 2028 2040 2042 2044 2046 2048 2060 2062 2064 2066 2068 2080 2082 2084 2086 2088 2200 2202 2204 2206 2208 2220 2222 2224 2226 2228 2240 2242 2244 2246 2248 2260 2262 2264 2266 2268 2280 2282 2284 2286 2288 2400 2402 2404 2406 2408 2420 2422 2424 2426 2428 2440 2442 2444 2446 2448 2460 2462 2464 2466 2468 2480 2482 2484 2486 2488 2600 2602 2604 2606 2608 2620 2622 2624 2626 2628 2640 2642 2644 2646 2648 2660 2662 2664 2666 2668 2680 2682 2684 2686 2688 2800 2802 2804 2806 2808 2820 2822 2824 2826 2828 2840 2842 2844 2846 2848 2860 2862 2864 2866 2868 2880 2882 2884 2886 2888\n"
     ]
    }
   ],
   "source": [
    "# Initialize an empty list to store the numbers\n",
    "result_numbers = []\n",
    "\n",
    "# Iterate through numbers from 1000 to 3000 (inclusive)\n",
    "for num in range(1000, 3001):\n",
    "    # Check if all digits are even\n",
    "    if all(int(digit) % 2 == 0 for digit in str(num)):\n",
    "        result_numbers.append(num)\n",
    "\n",
    "# Print the result as a space-separated sequence on a single line\n",
    "print(' '.join(map(str, result_numbers)))"
   ]
  },
  {
   "cell_type": "markdown",
   "id": "1f4754c9-0c27-450f-872f-d21df1923185",
   "metadata": {},
   "source": [
    "problem 11:Write a program, which will find all such numbers between 1000 and 3000 (both included) such that each digit of the number is an even number. The numbers obtained should be printed in a space-separated sequence on a single line.\r",
    "\r\n"
   ]
  },
  {
   "cell_type": "code",
   "execution_count": 7,
   "id": "9b30f23d-415d-44fb-af2a-b230e5d5f05f",
   "metadata": {},
   "outputs": [
    {
     "name": "stdout",
     "output_type": "stream",
     "text": [
      "2000,2001,2002,2003,2004,2005,2006,2007,2008,2009,2020,2021,2022,2023,2024,2025,2026,2027,2028,2029,2040,2041,2042,2043,2044,2045,2046,2047,2048,2049,2060,2061,2062,2063,2064,2065,2066,2067,2068,2069,2080,2081,2082,2083,2084,2085,2086,2087,2088,2089,2200,2201,2202,2203,2204,2205,2206,2207,2208,2209,2220,2221,2222,2223,2224,2225,2226,2227,2228,2229,2240,2241,2242,2243,2244,2245,2246,2247,2248,2249,2260,2261,2262,2263,2264,2265,2266,2267,2268,2269,2280,2281,2282,2283,2284,2285,2286,2287,2288,2289,2400,2401,2402,2403,2404,2405,2406,2407,2408,2409,2420,2421,2422,2423,2424,2425,2426,2427,2428,2429,2440,2441,2442,2443,2444,2445,2446,2447,2448,2449,2460,2461,2462,2463,2464,2465,2466,2467,2468,2469,2480,2481,2482,2483,2484,2485,2486,2487,2488,2489,2600,2601,2602,2603,2604,2605,2606,2607,2608,2609,2620,2621,2622,2623,2624,2625,2626,2627,2628,2629,2640,2641,2642,2643,2644,2645,2646,2647,2648,2649,2660,2661,2662,2663,2664,2665,2666,2667,2668,2669,2680,2681,2682,2683,2684,2685,2686,2687,2688,2689,2800,2801,2802,2803,2804,2805,2806,2807,2808,2809,2820,2821,2822,2823,2824,2825,2826,2827,2828,2829,2840,2841,2842,2843,2844,2845,2846,2847,2848,2849,2860,2861,2862,2863,2864,2865,2866,2867,2868,2869,2880,2881,2882,2883,2884,2885,2886,2887,2888,2889\n"
     ]
    }
   ],
   "source": [
    "result = []\n",
    "for i in range(1000,3000):\n",
    "    s = str(i)\n",
    "    if (int(s[0]) % 2 == 0) and (int(s[1]) % 2 == 0) and (int(s[2]) % 2 ==0):\n",
    "                                                      result.append(s)\n",
    "print(\",\".join(result))"
   ]
  },
  {
   "cell_type": "markdown",
   "id": "a714c372-8f75-45b7-b85d-faee98cf26e3",
   "metadata": {},
   "source": [
    "problem 12 :A robot moves in a plane starting from the original point (0,0). The robot can move toward UP, DOWN, LEFT and RIGHT with a given steps."
   ]
  },
  {
   "cell_type": "code",
   "execution_count": 1,
   "id": "3a1e5664-f241-457e-9a63-09543c03f2d2",
   "metadata": {},
   "outputs": [
    {
     "name": "stdout",
     "output_type": "stream",
     "text": [
      "Final position of the robot after all movements is: (-1, 2)\n"
     ]
    }
   ],
   "source": [
    "# Initialize starting position\n",
    "x, y = 0, 0\n",
    "\n",
    "# Define movements\n",
    "moves = [\n",
    "    ('UP', 5),\n",
    "    ('DOWN', 3),\n",
    "    ('LEFT', 3),\n",
    "    ('RIGHT', 2)\n",
    "]\n",
    "\n",
    "# Iterate through each movement and update position\n",
    "for move, steps in moves:\n",
    "    if move == 'UP':\n",
    "        y += steps\n",
    "    elif move == 'DOWN':\n",
    "        y -= steps\n",
    "    elif move == 'LEFT':\n",
    "        x -= steps\n",
    "    elif move == 'RIGHT':\n",
    "        x += steps\n",
    "\n",
    "# Print the final position\n",
    "print(f\"Final position of the robot after all movements is: ({x}, {y})\")"
   ]
  },
  {
   "cell_type": "markdown",
   "id": "2757490f-abb6-4496-974d-cfbec68a6fe4",
   "metadata": {},
   "source": [
    "problem 13:Write a program to print whether a given number is a prime number or not\n"
   ]
  },
  {
   "cell_type": "code",
   "execution_count": 5,
   "id": "d1e8f3c2-06f2-457f-bd06-aa3e9a15c222",
   "metadata": {},
   "outputs": [
    {
     "name": "stdin",
     "output_type": "stream",
     "text": [
      "Enter a number to check if it's prime:  3\n"
     ]
    },
    {
     "name": "stdout",
     "output_type": "stream",
     "text": [
      "3 is a prime number.\n"
     ]
    }
   ],
   "source": [
    "def is_prime(num):\n",
    "    # Check if number is less than or equal to 1\n",
    "    if num <= 1:\n",
    "        return False\n",
    "    \n",
    "    # Check for factors from 2 to sqrt(num)\n",
    "    for i in range(2, int(num**0.5) + 1):\n",
    "        if num % i == 0:\n",
    "            return False\n",
    "    \n",
    "    return True\n",
    "\n",
    "# Example usage:\n",
    "number = int(input(\"Enter a number to check if it's prime: \"))\n",
    "\n",
    "if is_prime(number):\n",
    "    print(f\"{number} is a prime number.\")\n",
    "else:\n",
    "    print(f\"{number} is not a prime number.\")"
   ]
  },
  {
   "cell_type": "markdown",
   "id": "7e42e415-5604-4485-bff9-d3a2bad45d29",
   "metadata": {},
   "source": [
    "problem 14:-Print all the Armstrong numbers in a given range.\n",
    "Range will be provided by the user\n",
    "Armstrong number is a number that is equal to the sum of cubes of its digits. For example 0, 1, 153, 370, 371 and 407 are the Armstrong numbers."
   ]
  },
  {
   "cell_type": "code",
   "execution_count": 4,
   "id": "bef71ece-1c84-4dcb-9de3-aa686e93e111",
   "metadata": {},
   "outputs": [
    {
     "name": "stdin",
     "output_type": "stream",
     "text": [
      "Enter the starting number of the range:  1\n",
      "Enter the ending number of the range:  55\n"
     ]
    },
    {
     "name": "stdout",
     "output_type": "stream",
     "text": [
      "Armstrong numbers in the range 1 to 55:\n",
      "1, 2, 3, 4, 5, 6, 7, 8, 9\n"
     ]
    }
   ],
   "source": [
    "def is_armstrong_number(num):\n",
    "    # Convert number to string to iterate over digits\n",
    "    num_str = str(num)\n",
    "    num_digits = len(num_str)\n",
    "    \n",
    "    # Calculate the sum of cubes of its digits\n",
    "    sum_of_cubes = sum(int(digit) ** num_digits for digit in num_str)\n",
    "    \n",
    "    # Check if the number is equal to the sum of cubes of its digits\n",
    "    return num == sum_of_cubes\n",
    "\n",
    "def find_armstrong_numbers(start, end):\n",
    "    armstrong_numbers = []\n",
    "    for num in range(start, end + 1):\n",
    "        if is_armstrong_number(num):\n",
    "            armstrong_numbers.append(num)\n",
    "    return armstrong_numbers\n",
    "\n",
    "# Get range from user\n",
    "start = int(input(\"Enter the starting number of the range: \"))\n",
    "end = int(input(\"Enter the ending number of the range: \"))\n",
    "\n",
    "# Find and print Armstrong numbers in the specified range\n",
    "result = find_armstrong_numbers(start, end)\n",
    "if result:\n",
    "    print(f\"Armstrong numbers in the range {start} to {end}:\")\n",
    "    print(', '.join(map(str, result)))\n",
    "else:\n",
    "    print(f\"No Armstrong numbers found in the range {start} to {end}.\")"
   ]
  },
  {
   "cell_type": "markdown",
   "id": "c921ca4b-102d-4a9d-91cf-44452a2d1ab4",
   "metadata": {},
   "source": [
    "Problem 15:Calculate the angle between the hour hand and minute hand."
   ]
  },
  {
   "cell_type": "code",
   "execution_count": 12,
   "id": "08d89882-c4ef-49e6-88e1-1473962353db",
   "metadata": {},
   "outputs": [
    {
     "name": "stdout",
     "output_type": "stream",
     "text": [
      "90\n"
     ]
    }
   ],
   "source": [
    "H = 9\n",
    "M = 0\n",
    "hour_angle = (H % 12) * 30 + (M * 0.5)\n",
    "minute_angle = M * 6\n",
    "angle_difference = abs(hour_angle - minute_angle)\n",
    "smaller_angle = min(angle_difference, 360 - angle_difference)\n",
    "result = int(smaller_angle)\n",
    "print(result)\n"
   ]
  },
  {
   "cell_type": "markdown",
   "id": "2a0eee5f-fbe2-4c4a-a29c-5a8ae92af63b",
   "metadata": {},
   "source": [
    "Problem 16:Given two rectangles, find if the given two rectangles overlap or not. A rectangle is denoted by providing the x and y coordinates of two points: the left top corner and the right bottom corner of the rectangle. Two rectangles sharing a side are considered overlapping. (L1 and R1 are the extreme points of the first rectangle and L2 and R2 are the extreme points of the second rectangle).\n",
    "Note: It may be assumed that the rectangles are parallel to the coordinate axis.\n",
    "\n"
   ]
  },
  {
   "cell_type": "code",
   "execution_count": 16,
   "id": "ebe77855-d0be-431d-9158-ca3aa6c8a01e",
   "metadata": {},
   "outputs": [
    {
     "name": "stdout",
     "output_type": "stream",
     "text": [
      "True\n"
     ]
    }
   ],
   "source": [
    "x1, y1 = 0, 10\n",
    "x2, y2 =10, 0\n",
    "\n",
    "x3, y3 = 5, 5\n",
    "x4, y4 =15, -5\n",
    "\n",
    "if(x2 < x3 or x4 < x1 or y2 > y3 or y4 > y1):\n",
    "    overlap = False\n",
    "else:\n",
    "    overlap = True\n",
    "\n",
    "print(overlap)\n"
   ]
  }
 ],
 "metadata": {
  "kernelspec": {
   "display_name": "Python 3 (ipykernel)",
   "language": "python",
   "name": "python3"
  },
  "language_info": {
   "codemirror_mode": {
    "name": "ipython",
    "version": 3
   },
   "file_extension": ".py",
   "mimetype": "text/x-python",
   "name": "python",
   "nbconvert_exporter": "python",
   "pygments_lexer": "ipython3",
   "version": "3.11.7"
  }
 },
 "nbformat": 4,
 "nbformat_minor": 5
}
