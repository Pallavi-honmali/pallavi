{
 "cells": [
  {
   "cell_type": "markdown",
   "id": "a1cc7f30-52e6-428d-be0f-2ba08ebd5829",
   "metadata": {},
   "source": [
    "# tuple"
   ]
  },
  {
   "cell_type": "markdown",
   "id": "1822c2bf-ca80-462a-b88a-e85ada60d7f2",
   "metadata": {},
   "source": [
    "Q 1 :Join Tuples if similar initial element\n",
    "While working with Python tuples, we can have a problem in which we need to perform concatenation of records from the similarity of initial element. This problem can have applications in data domains such as Data Science.\n",
    "\n",
    "For eg.\n",
    "\n",
    "Input  : test_list = [(5, 6), (5, 7), (5, 8), (6, 10), (7, 13)] \n",
    "Output : [(5, 6, 7, 8), (6, 10), (7, 13)] \n"
   ]
  },
  {
   "cell_type": "code",
   "execution_count": 6,
   "id": "3b66fdca-02f5-4761-b5b5-3baf192b2ca6",
   "metadata": {},
   "outputs": [
    {
     "name": "stdout",
     "output_type": "stream",
     "text": [
      "[(5, 6, 7, 8), (6, 10), (7, 13)]\n"
     ]
    }
   ],
   "source": [
    "from collections import defaultdict\n",
    "\n",
    "def join_tuples_by_initial_element(test_list):\n",
    "    # Create a default dictionary where each value is a list\n",
    "    grouped = defaultdict(list)\n",
    "    \n",
    "    # Group the tuples by their initial element\n",
    "    for tup in test_list:\n",
    "        grouped[tup[0]].extend(tup[1:])\n",
    "    \n",
    "    # Create the result list by concatenating tuples for each group\n",
    "    result = [(key, *values) for key, values in grouped.items()]\n",
    "    \n",
    "    return result\n",
    "\n",
    "# Test the function with the provided example\n",
    "test_list = [(5, 6), (5, 7), (5, 8), (6, 10), (7, 13)]\n",
    "print(join_tuples_by_initial_element(test_list))"
   ]
  },
  {
   "cell_type": "markdown",
   "id": "7c9bd4a5-3cc9-4ce8-807a-2331abe30a61",
   "metadata": {},
   "source": [
    "Q2 :Multiply Adjacent elements (both side) and take sum of right and lest side multiplication result.\n",
    "For eg.\n",
    "\n",
    "The original tuple : (1, 5, 7, 8, 10)\n",
    "Resultant tuple after multiplication : \n",
    "\n",
    "(1*5, 1*5+5*7, 7*5 + 7*8, 8*7 + 8*10, 10*8) -> (5, 40, 91, 136, 80)\n",
    "\n",
    "output-(5, 40, 91, 136, 80)\n"
   ]
  },
  {
   "cell_type": "code",
   "execution_count": 7,
   "id": "b120c9e7-0ecc-423a-b096-b7bd8110ef29",
   "metadata": {},
   "outputs": [
    {
     "name": "stdout",
     "output_type": "stream",
     "text": [
      "(5, 40, 91, 136, 80)\n"
     ]
    }
   ],
   "source": [
    "def multiply_adjacent_elements(tup):\n",
    "    n = len(tup)\n",
    "    result = []\n",
    "    \n",
    "    for i in range(n):\n",
    "        if i == 0:\n",
    "            result.append(tup[i] * tup[i+1])\n",
    "        elif i == n - 1:\n",
    "            result.append(tup[i] * tup[i-1])\n",
    "        else:\n",
    "            result.append(tup[i-1] * tup[i] + tup[i] * tup[i+1])\n",
    "    \n",
    "    return tuple(result)\n",
    "\n",
    "# Example usage\n",
    "original_tuple = (1, 5, 7, 8, 10)\n",
    "resultant_tuple = multiply_adjacent_elements(original_tuple)\n",
    "print(resultant_tuple)"
   ]
  },
  {
   "cell_type": "markdown",
   "id": "c0342e6f-ceed-45fa-9789-423684161033",
   "metadata": {},
   "source": [
    "Q3 :Check is tuples are same or not?\n",
    "Two tuples would be same if both tuples have same element at same index\n",
    "\n",
    "t1 = (1,2,3,0)\n",
    "t2 = (0,1,2,3)\n",
    "\n",
    "t1 and t2 are not same"
   ]
  },
  {
   "cell_type": "code",
   "execution_count": 5,
   "id": "b7181a08-bd3a-4789-8206-85a911887d00",
   "metadata": {},
   "outputs": [
    {
     "name": "stdout",
     "output_type": "stream",
     "text": [
      "False\n"
     ]
    }
   ],
   "source": [
    "t1 = (1, 2, 3, 0)\n",
    "t2 = (0, 1, 2, 3)\n",
    "\n",
    "# Check if the tuples are the same\n",
    "are_tuples_same = t1 == t2\n",
    "\n",
    "print(are_tuples_same)  # This will print False because t1 and t2 are not the same"
   ]
  },
  {
   "cell_type": "markdown",
   "id": "8a9da9f7-2746-4fd0-adeb-a5ce55420689",
   "metadata": {},
   "source": [
    "Q 4: Count no of tuples, list and set from a list\n",
    "list1 = [{'hi', 'bye'},{'Geeks', 'forGeeks'},('a', 'b'),['hi', 'bye'],['a', 'b']]\n",
    "Output:\n",
    "\n",
    "List-2\n",
    "Set-2\n",
    "Tuples-1"
   ]
  },
  {
   "cell_type": "code",
   "execution_count": 8,
   "id": "8efdf37e-b552-4367-baf3-07c356ed578d",
   "metadata": {},
   "outputs": [
    {
     "name": "stdout",
     "output_type": "stream",
     "text": [
      "List-2\n",
      "Set-2\n",
      "Tuples-1\n"
     ]
    }
   ],
   "source": [
    "list1 = [{'hi', 'bye'},{'Geeks', 'forGeeks'},('a', 'b'),['hi', 'bye'],['a', 'b']]\n",
    "\n",
    "# Initialize counters\n",
    "list_count = 0\n",
    "set_count = 0\n",
    "tuple_count = 0\n",
    "\n",
    "# Iterate through the elements in list1 and count each type\n",
    "for item in list1:\n",
    "    if isinstance(item, list):\n",
    "        list_count += 1\n",
    "    elif isinstance(item, set):\n",
    "        set_count += 1\n",
    "    elif isinstance(item, tuple):\n",
    "        tuple_count += 1\n",
    "\n",
    "# Output the counts\n",
    "print(f\"List-{list_count}\")\n",
    "print(f\"Set-{set_count}\")\n",
    "print(f\"Tuples-{tuple_count}\")"
   ]
  },
  {
   "cell_type": "markdown",
   "id": "7017462e-1982-4ef5-99a5-7da598398e87",
   "metadata": {},
   "source": [
    "Q5 : Shortlist Students for a Job role\n",
    "Ask user to input students record and store in tuples for each record. Then Ask user to input three things he wants in the candidate- Primary Skill, Higher Education, Year of Graduation.\n",
    "\n",
    "Show every students record in form of tuples if matches all required criteria.\n",
    "\n",
    "It is assumed that there will be only one primry skill.\n",
    "\n",
    "If no such candidate found, print No such candidate\n",
    "\n"
   ]
  },
  {
   "cell_type": "code",
   "execution_count": 1,
   "id": "1d3db855-cad7-4a70-b6c8-10742a4116e2",
   "metadata": {},
   "outputs": [
    {
     "name": "stdin",
     "output_type": "stream",
     "text": [
      "Enter number of records:  2\n"
     ]
    },
    {
     "name": "stdout",
     "output_type": "stream",
     "text": [
      "\n",
      "Enter Details of student-1\n"
     ]
    },
    {
     "name": "stdin",
     "output_type": "stream",
     "text": [
      "Enter Student name:  manohar\n",
      "Enter Higher Education:  B.Tech\n",
      "Enter Primary Skill:  python\n",
      "Enter Year of Graduation:  2022\n"
     ]
    },
    {
     "name": "stdout",
     "output_type": "stream",
     "text": [
      "\n",
      "Enter Details of student-2\n"
     ]
    },
    {
     "name": "stdin",
     "output_type": "stream",
     "text": [
      "Enter Student name:  poian\n",
      "Enter Higher Education:  B.Sc\n",
      "Enter Primary Skill:  c++\n",
      "Enter Year of Graduation:  2022\n"
     ]
    },
    {
     "name": "stdout",
     "output_type": "stream",
     "text": [
      "\n",
      "Enter Job Role Requirement\n"
     ]
    },
    {
     "name": "stdin",
     "output_type": "stream",
     "text": [
      "Enter Skill:  python\n",
      "Enter Higher Education:  B.Tech\n",
      "Enter Year of Graduation:  2022\n"
     ]
    },
    {
     "name": "stdout",
     "output_type": "stream",
     "text": [
      "('manohar', 'B.Tech', 'python', '2022')\n"
     ]
    }
   ],
   "source": [
    "def get_student_records():\n",
    "    students = []\n",
    "    num_records = int(input(\"Enter number of records: \"))\n",
    "    \n",
    "    for i in range(num_records):\n",
    "        print(f\"\\nEnter Details of student-{i+1}\")\n",
    "        name = input(\"Enter Student name: \")\n",
    "        education = input(\"Enter Higher Education: \")\n",
    "        skill = input(\"Enter Primary Skill: \")\n",
    "        graduation_year = input(\"Enter Year of Graduation: \")\n",
    "        students.append((name, education, skill, graduation_year))\n",
    "    \n",
    "    return students\n",
    "\n",
    "def get_job_requirements():\n",
    "    print(\"\\nEnter Job Role Requirement\")\n",
    "    skill = input(\"Enter Skill: \")\n",
    "    education = input(\"Enter Higher Education: \")\n",
    "    graduation_year = input(\"Enter Year of Graduation: \")\n",
    "    \n",
    "    return skill, education, graduation_year\n",
    "\n",
    "def find_matching_candidates(students, requirements):\n",
    "    matches = [student for student in students if (student[2] == requirements[0] and \n",
    "                                                   student[1] == requirements[1] and \n",
    "                                                   student[3] == requirements[2])]\n",
    "    \n",
    "    return matches\n",
    "\n",
    "students = get_student_records()\n",
    "requirements = get_job_requirements()\n",
    "matches = find_matching_candidates(students, requirements)\n",
    "\n",
    "if matches:\n",
    "    for match in matches:\n",
    "        print(match)\n",
    "else:\n",
    "    print(\"No such candidate\")"
   ]
  },
  {
   "cell_type": "markdown",
   "id": "ad4fb7e2-0b75-4dfc-87d8-98bc25d2e580",
   "metadata": {},
   "source": [
    "# set"
   ]
  },
  {
   "cell_type": "markdown",
   "id": "edf74314-22ef-4356-8d00-315d75e54be6",
   "metadata": {},
   "source": [
    " Q1 :Write a program to find set of common elements in three lists using sets.\n",
    "Input : ar1 = [1, 5, 10, 20, 40, 80]\n",
    "        ar2 = [6, 7, 20, 80, 100]\n",
    "        ar3 = [3, 4, 15, 20, 30, 70, 80, 120]\n",
    "\n",
    "Output : [80, 20]"
   ]
  },
  {
   "cell_type": "code",
   "execution_count": 13,
   "id": "51d4ce92-2358-450a-be44-2d5a5805da1e",
   "metadata": {},
   "outputs": [
    {
     "name": "stdout",
     "output_type": "stream",
     "text": [
      "[80, 20]\n"
     ]
    }
   ],
   "source": [
    "def find_common_elements(ar1, ar2, ar3):\n",
    "    # Convert lists to sets\n",
    "    set1 = set(ar1)\n",
    "    set2 = set(ar2)\n",
    "    set3 = set(ar3)\n",
    "    \n",
    "    # Find the intersection of the three sets\n",
    "    common_elements = set1.intersection(set2).intersection(set3)\n",
    "    \n",
    "    # Convert the result to a list\n",
    "    common_elements_list = list(common_elements)\n",
    "    \n",
    "    return common_elements_list\n",
    "\n",
    "# Example usage\n",
    "ar1 = [1, 5, 10, 20, 40, 80]\n",
    "ar2 = [6, 7, 20, 80, 100]\n",
    "ar3 = [3, 4, 15, 20, 30, 70, 80, 120]\n",
    "\n",
    "print(find_common_elements(ar1,ar2,ar3))"
   ]
  },
  {
   "cell_type": "markdown",
   "id": "a0459a16-8dac-41fa-a50f-90b5bde68893",
   "metadata": {},
   "source": [
    "Q 2:Write a program to count unique number of vowels using sets in a given string. Lowercase and upercase vowels will be taken as different.\n",
    "Input:\n",
    "\n",
    "Str1 = \"hands-on data science mentorship progrAm with live classes at affordable fee only on CampusX\"\n",
    "Output:\n",
    "\n",
    "No of unique vowels-6\n",
    "[ ]\n"
   ]
  },
  {
   "cell_type": "code",
   "execution_count": 14,
   "id": "dcb327dd-d30b-4d75-8bda-1636e0c0a243",
   "metadata": {},
   "outputs": [
    {
     "name": "stdout",
     "output_type": "stream",
     "text": [
      "No of unique vowels- 6\n"
     ]
    }
   ],
   "source": [
    "def count_unique_vowels(s):\n",
    "    vowels = {'a', 'e', 'i', 'o', 'u', 'A', 'E', 'I', 'O', 'U'}\n",
    "    unique_vowels = set()\n",
    "\n",
    "    for char in s:\n",
    "        if char in vowels:\n",
    "            unique_vowels.add(char)\n",
    "\n",
    "    return len(unique_vowels)\n",
    "\n",
    "# Test the function with the provided input\n",
    "str1 = \"hands-on data science mentorship progrAm with live classes at affordable fee only on CampusX\"\n",
    "print(\"No of unique vowels-\", count_unique_vowels(str1))"
   ]
  },
  {
   "cell_type": "markdown",
   "id": "64c091e9-00c9-4fa6-9a23-2b2d17679c11",
   "metadata": {},
   "source": [
    "Q 3:Write a program to Check if a given string is binary string of or not.\n",
    "A string is said to be binary if it's consists of only two unique characters.\n",
    "\n",
    "Take string input from user.\n",
    "\n",
    "Input: str = \"01010101010\"\n",
    "Output: Yes\n",
    "\n",
    "Input: str = \"1222211\"\n",
    "Output: Yes\n",
    "\n",
    "Input: str = \"Campusx\"\n",
    "Output: No\n"
   ]
  },
  {
   "cell_type": "code",
   "execution_count": 2,
   "id": "c3a76411-595f-48d3-8091-37d6f8bc94aa",
   "metadata": {},
   "outputs": [
    {
     "name": "stdin",
     "output_type": "stream",
     "text": [
      "Enter a string:  2\n"
     ]
    }
   ],
   "source": [
    "def is_binary_string(s):\n",
    "    # Convert the string to a set to get unique characters\n",
    "    unique_chars = set(s)\n",
    "    # Check if the length of the set is 2\n",
    "    return len(unique_chars) == 2\n",
    "\n",
    "# Take string input from user\n",
    "input_str = input(\"Enter a string: \")\n",
    "\n",
    "# Check if the string is binary and print the result\n",
    "if is_binary_string(input_str):\n",
    "    print(\"Yes\")"
   ]
  },
  {
   "cell_type": "markdown",
   "id": "e826066f-13cc-4488-aee1-2ed9e7b9b089",
   "metadata": {},
   "source": [
    " find union of n arrays.\n",
    "Example 1:\n",
    "\n",
    "Input:\n",
    "\n",
    "[[1, 2, 2, 4, 3, 6],\n",
    " [5, 1, 3, 4],\n",
    " [9, 5, 7, 1],\n",
    " [2, 4, 1, 3]]\n",
    "Output:\n",
    "\n",
    "[1, 2, 3, 4, 5, 6, 7, 9]\n"
   ]
  },
  {
   "cell_type": "markdown",
   "id": "a7aa9031-e87e-47ca-8a77-16d73f167e4d",
   "metadata": {},
   "source": [
    "# Dectionary"
   ]
  },
  {
   "cell_type": "markdown",
   "id": "1763ce1d-4653-4dca-a52a-b1bd2550f1a7",
   "metadata": {},
   "source": [
    "Q1 :Key with maximum unique values\n",
    "Given a dictionary with values list, extract key whose value has most unique values."
   ]
  },
  {
   "cell_type": "code",
   "execution_count": 12,
   "id": "a8a39384-a1f3-4856-9e57-dc742a192232",
   "metadata": {},
   "outputs": [
    {
     "name": "stdout",
     "output_type": "stream",
     "text": [
      "{'a': [4, 19], 'b': [10, 12], 'c': [3]}\n"
     ]
    }
   ],
   "source": [
    "def sort_dict(d):\n",
    "    # Sort the dictionary by keys and sort the values\n",
    "    sorted_dict = {k: sorted(v) for k, v in sorted(d.items())}\n",
    "    return sorted_dict\n",
    "\n",
    "# Example input\n",
    "input_dict = {'c': [3], 'b': [12, 10], 'a': [19, 4]}\n",
    "\n",
    "# Get the sorted dictionary\n",
    "output_dict = sort_dict(input_dict)\n",
    "\n",
    "print(output_dict)"
   ]
  },
  {
   "cell_type": "markdown",
   "id": "cbdfd723-4636-4b4d-bbad-768f49456aea",
   "metadata": {},
   "source": [
    " Q2 :Replace words from Dictionary. Given String, replace it’s words from lookup dictionary."
   ]
  },
  {
   "cell_type": "code",
   "execution_count": 6,
   "id": "47f9c721-323a-49d3-8567-77324496e491",
   "metadata": {},
   "outputs": [
    {
     "name": "stdout",
     "output_type": "stream",
     "text": [
      "CampusX is the best channel for Data-Science students.\n"
     ]
    }
   ],
   "source": [
    "import re\n",
    "\n",
    "def replace_words(test_str, repl_dict):\n",
    "    # Sort the keys by length in descending order to avoid partial replacements\n",
    "    sorted_keys = sorted(repl_dict.keys(), key=len, reverse=True)\n",
    "    \n",
    "    # Create a regex pattern with all keys\n",
    "    pattern = re.compile(r'\\b(' + '|'.join(map(re.escape, sorted_keys)) + r')\\b')\n",
    "    \n",
    "    # Function to replace each match with the corresponding value from the dictionary\n",
    "    result = pattern.sub(lambda x: repl_dict[x.group()], test_str)\n",
    "    \n",
    "    return result\n",
    "\n",
    "# Example usage\n",
    "test_str = 'CampusX best for DS students.'\n",
    "repl_dict = {\"best\": \"is the best channel\", \"DS\": \"Data-Science\"}\n",
    "\n",
    "output = replace_words(test_str, repl_dict)\n",
    "print(output)  # Output: CampusX is the best channel for Data-Science students."
   ]
  },
  {
   "cell_type": "markdown",
   "id": "16014bc5-47a1-44b3-8285-73e12b3c7a83",
   "metadata": {},
   "source": [
    "Q3 : Convert List to List of dictionaries. Given list values and keys list, convert these values to key value pairs in form of list of dictionaries."
   ]
  },
  {
   "cell_type": "code",
   "execution_count": 9,
   "id": "be646889-babb-43a0-85c0-1bf3048fa052",
   "metadata": {},
   "outputs": [
    {
     "name": "stdout",
     "output_type": "stream",
     "text": [
      "[{'name': 'DataScience', 'id': 3}, {'name': 'is', 'id': 8}]\n"
     ]
    }
   ],
   "source": [
    "def list_to_dict_list(values_list, keys_list):\n",
    "    # Initialize the result list\n",
    "    result = []\n",
    "    \n",
    "    # Calculate the number of dictionaries we will have\n",
    "    num_dicts = len(values_list) // len(keys_list)\n",
    "    \n",
    "    for i in range(num_dicts):\n",
    "        # Create a dictionary for each segment of the values_list\n",
    "        temp_dict = {}\n",
    "        for j in range(len(keys_list)):\n",
    "            temp_dict[keys_list[j]] = values_list[i * len(keys_list) + j]\n",
    "        result.append(temp_dict)\n",
    "    \n",
    "    return result\n",
    "\n",
    "# Example usage:\n",
    "test_list = [\"DataScience\", 3, \"is\", 8]\n",
    "key_list = [\"name\", \"id\"]\n",
    "output = list_to_dict_list(test_list, key_list)\n",
    "print(output)"
   ]
  },
  {
   "cell_type": "markdown",
   "id": "776443b0-4ae3-4ea2-abdd-b76f162629ef",
   "metadata": {},
   "source": [
    "Q 4:Convert a list of Tuples into Dictionary."
   ]
  },
  {
   "cell_type": "code",
   "execution_count": 10,
   "id": "fb834510-76b7-4fb0-a6d8-5dafa8eea21f",
   "metadata": {},
   "outputs": [
    {
     "name": "stdout",
     "output_type": "stream",
     "text": [
      "{'akash': [10], 'gaurav': [12], 'anand': [14], 'suraj': [20], 'akhil': [25], 'ashish': [30]}\n"
     ]
    }
   ],
   "source": [
    "def tuples_to_dict(tuples_list):\n",
    "    result = {}\n",
    "    \n",
    "    for key, value in tuples_list:\n",
    "        if key in result:\n",
    "            result[key].append(value)\n",
    "        else:\n",
    "            result[key] = [value]\n",
    "    \n",
    "    return result\n",
    "\n",
    "# Example usage:\n",
    "input_list = [(\"akash\", 10), (\"gaurav\", 12), (\"anand\", 14), (\"suraj\", 20), (\"akhil\", 25), (\"ashish\", 30)]\n",
    "output = tuples_to_dict(input_list)\n",
    "print(output)"
   ]
  },
  {
   "cell_type": "markdown",
   "id": "2cf3526b-7d0a-426b-b31f-8b1cd913533a",
   "metadata": {},
   "source": [
    "Q5 :Sort Dictionary key and values List."
   ]
  },
  {
   "cell_type": "code",
   "execution_count": 11,
   "id": "6acc2dcb-4ede-41f3-89e5-21d40e039eb3",
   "metadata": {},
   "outputs": [
    {
     "name": "stdout",
     "output_type": "stream",
     "text": [
      "{'a': [4, 19], 'b': [10, 12], 'c': [3]}\n"
     ]
    }
   ],
   "source": [
    "def sort_dict(d):\n",
    "    # Sort the dictionary by keys and sort the values\n",
    "    sorted_dict = {k: sorted(v) for k, v in sorted(d.items())}\n",
    "    return sorted_dict\n",
    "\n",
    "# Example input\n",
    "input_dict = {'c': [3], 'b': [12, 10], 'a': [19, 4]}\n",
    "\n",
    "# Get the sorted dictionary\n",
    "output_dict = sort_dict(input_dict)\n",
    "\n",
    "print(output_dict)"
   ]
  },
  {
   "cell_type": "code",
   "execution_count": null,
   "id": "73c086de-a5a7-48fa-ab0f-f8a34a5a27aa",
   "metadata": {},
   "outputs": [],
   "source": []
  }
 ],
 "metadata": {
  "kernelspec": {
   "display_name": "Python 3 (ipykernel)",
   "language": "python",
   "name": "python3"
  },
  "language_info": {
   "codemirror_mode": {
    "name": "ipython",
    "version": 3
   },
   "file_extension": ".py",
   "mimetype": "text/x-python",
   "name": "python",
   "nbconvert_exporter": "python",
   "pygments_lexer": "ipython3",
   "version": "3.11.7"
  }
 },
 "nbformat": 4,
 "nbformat_minor": 5
}