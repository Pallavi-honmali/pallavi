{
 "cells": [
  {
   "cell_type": "markdown",
   "id": "f738f607-2112-4551-968d-cd44b2bf50be",
   "metadata": {},
   "source": [
    "Q1"
   ]
  },
  {
   "cell_type": "markdown",
   "id": "618c6e8f-830d-4116-abd1-521ff10837e0",
   "metadata": {},
   "source": [
    "# Create 2 lists from a given list where \n",
    "1st list will contain all the odd numbers from the original list and\n",
    "the 2nd one will contain all the even numbers\n",
    "L = [1,2,3,4,5,6]"
   ]
  },
  {
   "cell_type": "code",
   "execution_count": 1,
   "id": "23260beb-daaf-48ac-881c-1d777d113f17",
   "metadata": {},
   "outputs": [
    {
     "name": "stdout",
     "output_type": "stream",
     "text": [
      "L:  [1, 2, 3, 4, 5, 6]\n",
      "List of Even number:  [2, 4, 6]\n",
      "List of Odd number:  [1, 3, 5]\n"
     ]
    }
   ],
   "source": [
    "L=[1,2,3,4,5,6]\n",
    "lOdd=[]\n",
    "lEven=[]\n",
    "for n in L:\n",
    "    if n%2==0:\n",
    "        lEven.append(n)\n",
    "    else:\n",
    "        lOdd.append(n)\n",
    "print(\"L: \",L)\n",
    "print(\"List of Even number: \",lEven)\n",
    "print(\"List of Odd number: \",lOdd)"
   ]
  },
  {
   "cell_type": "markdown",
   "id": "18e6364e-7bb4-4c5d-b86c-3ffb832667cd",
   "metadata": {},
   "source": [
    "Q2"
   ]
  },
  {
   "cell_type": "markdown",
   "id": "831fbfdc-168d-409f-abf0-eaa2f297c590",
   "metadata": {},
   "source": [
    "# How to take list as input from user"
   ]
  },
  {
   "cell_type": "code",
   "execution_count": 2,
   "id": "eaa5fd88-1e0a-40fe-bb2a-9dc3d4666aef",
   "metadata": {},
   "outputs": [
    {
     "name": "stdin",
     "output_type": "stream",
     "text": [
      "Enter number of elements : 4\n",
      " 1\n",
      " 4\n",
      " 6\n",
      " 5\n"
     ]
    },
    {
     "name": "stdout",
     "output_type": "stream",
     "text": [
      "[1, 4, 6, 5]\n"
     ]
    }
   ],
   "source": [
    "list=[]\n",
    "n=int(input(\"Enter number of elements :\"))\n",
    "for i in range (0,n):\n",
    "    element=int(input())\n",
    "    list.append(element)\n",
    "print(list)"
   ]
  },
  {
   "cell_type": "markdown",
   "id": "79293532-4125-47e0-ad30-a02f04171e5c",
   "metadata": {},
   "source": [
    "Q3"
   ]
  },
  {
   "cell_type": "markdown",
   "id": "1300efe1-6a0b-4b5e-860f-5d4bd4351ab8",
   "metadata": {},
   "source": [
    "# Write a program to merge 2 list without using the + operator\n",
    "# L1 = [1,2,3,4]\n",
    "# L2 = [5,6,7,8]\n",
    "L1=[1,2,3,4]\n",
    "L2=[5,6,7,8]"
   ]
  },
  {
   "cell_type": "code",
   "execution_count": 3,
   "id": "ee23c5f7-a694-4bed-b029-b2584c303ed4",
   "metadata": {},
   "outputs": [
    {
     "name": "stdout",
     "output_type": "stream",
     "text": [
      "List after merged : [1, 2, 3, 4, 5, 6, 7, 8]\n"
     ]
    }
   ],
   "source": [
    "L1=[1,2,3,4]\n",
    "L2=[5,6,7,8]\n",
    "for x in L2:\n",
    "    L1.append(x)\n",
    "print(\"List after merged :\",L1)\n"
   ]
  },
  {
   "cell_type": "markdown",
   "id": "e3c361c2-c61a-4286-b38c-606099ef489f",
   "metadata": {},
   "source": [
    "Q4"
   ]
  },
  {
   "cell_type": "markdown",
   "id": "471f6a39-7ae3-4fec-8e2d-2931ceef03d8",
   "metadata": {},
   "source": [
    "# Write a program to replace an item with a different item if found in the list \n",
    "# L = [1,2,3,4,5,3]\n",
    "# replace 3 with 300"
   ]
  },
  {
   "cell_type": "code",
   "execution_count": 4,
   "id": "2709e693-f49a-4cc2-a603-392182b3ff0e",
   "metadata": {},
   "outputs": [
    {
     "name": "stdout",
     "output_type": "stream",
     "text": [
      "[1, 2, 300, 4, 5, 300]\n"
     ]
    }
   ],
   "source": [
    "L=[1,2,3,4,5,3]\n",
    "for i in range(len(L)):\n",
    "    if L[i]==3:\n",
    "        L[i]=300\n",
    "print(L)"
   ]
  },
  {
   "cell_type": "markdown",
   "id": "f6c46923-91c9-46d2-8763-a29a27a355c3",
   "metadata": {},
   "source": [
    "Q5"
   ]
  },
  {
   "cell_type": "markdown",
   "id": "2c7ca566-cda5-47d2-ba9a-68cba670cd1a",
   "metadata": {},
   "source": [
    "# Write a program that can convert a 2D list to 1D list"
   ]
  },
  {
   "cell_type": "code",
   "execution_count": 1,
   "id": "f27bb45b-12c7-49ca-8db5-db416dbc1f12",
   "metadata": {},
   "outputs": [
    {
     "name": "stdout",
     "output_type": "stream",
     "text": [
      "The 2D list [[1 2 3]\n",
      " [2 4 5]\n",
      " [1 2 3]]\n",
      "The 1D list: [1 2 3 2 4 5 1 2 3]\n"
     ]
    }
   ],
   "source": [
    "import numpy as np\n",
    "list1=np.array([[1,2,3],[2,4,5],[1,2,3]])\n",
    "print(\"The 2D list\",str(list1))\n",
    "result=list1.flatten()\n",
    "print(\"The 1D list:\",result)"
   ]
  },
  {
   "cell_type": "markdown",
   "id": "3f821852-726e-4e3d-9952-dad2a3233eb9",
   "metadata": {},
   "source": [
    "Q6"
   ]
  },
  {
   "cell_type": "markdown",
   "id": "339b6a0c-7595-4be6-b109-d66bbb6e5c5f",
   "metadata": {},
   "source": [
    "# Write a program to remove duplicate items from a list"
   ]
  },
  {
   "cell_type": "code",
   "execution_count": null,
   "id": "6c9284ec-96e1-48f7-beb5-f68f44adfafd",
   "metadata": {},
   "outputs": [],
   "source": [
    "L=[1,2,1,2,3,4,5,3,4]\n",
    "print(\"The list before:\",L)\n",
    "l1=[]\n",
    "for i in L:\n",
    "    if i not in l1:\n",
    "        l1.append(i)\n",
    "        print(\"The list after removing duplicate: \",l1)"
   ]
  },
  {
   "cell_type": "markdown",
   "id": "7902bbb5-8c77-426c-a77b-84355ab071e6",
   "metadata": {},
   "source": [
    "Q7"
   ]
  },
  {
   "cell_type": "markdown",
   "id": "06602d04-1834-4a29-9642-8676c3278a7c",
   "metadata": {},
   "source": [
    "# Write a program to check if a list is in ascending order or not\n"
   ]
  },
  {
   "cell_type": "code",
   "execution_count": 4,
   "id": "e2bfc851-53f3-4c78-8f54-5e20014b8b61",
   "metadata": {},
   "outputs": [
    {
     "name": "stdout",
     "output_type": "stream",
     "text": [
      "List [1, 2, 3, 4, 5]: Ascending? True\n",
      "List [1, 3, 2, 4, 5]: Ascending? False\n"
     ]
    }
   ],
   "source": [
    "def is_ascending(lst):\n",
    "        for i in range(len(lst) - 1):\n",
    "            if lst[i] > lst[i + 1]:\n",
    "                return False\n",
    "        return True\n",
    "\n",
    "list1 = [1, 2, 3, 4, 5]\n",
    "list2 = [1, 3, 2, 4, 5]\n",
    "print(f\"List {list1}: Ascending? {is_ascending(list1)}\")\n",
    "print(f\"List {list2}: Ascending? {is_ascending(list2)}\")"
   ]
  }
 ],
 "metadata": {
  "kernelspec": {
   "display_name": "Python 3 (ipykernel)",
   "language": "python",
   "name": "python3"
  },
  "language_info": {
   "codemirror_mode": {
    "name": "ipython",
    "version": 3
   },
   "file_extension": ".py",
   "mimetype": "text/x-python",
   "name": "python",
   "nbconvert_exporter": "python",
   "pygments_lexer": "ipython3",
   "version": "3.11.7"
  }
 },
 "nbformat": 4,
 "nbformat_minor": 5
}
